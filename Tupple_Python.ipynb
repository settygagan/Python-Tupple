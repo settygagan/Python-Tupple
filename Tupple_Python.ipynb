{
  "nbformat": 4,
  "nbformat_minor": 0,
  "metadata": {
    "colab": {
      "provenance": []
    },
    "kernelspec": {
      "name": "python3",
      "display_name": "Python 3"
    },
    "language_info": {
      "name": "python"
    }
  },
  "cells": [
    {
      "cell_type": "code",
      "execution_count": null,
      "metadata": {
        "id": "jCMrnDqKZCaJ",
        "colab": {
          "base_uri": "https://localhost:8080/"
        },
        "outputId": "89269e5b-b6bb-4bfe-c37b-bf8b60d4f7d8"
      },
      "outputs": [
        {
          "output_type": "stream",
          "name": "stdout",
          "text": [
            "()\n"
          ]
        }
      ],
      "source": [
        "empty_tuple=()\n",
        "print(empty_tuple)"
      ]
    },
    {
      "cell_type": "code",
      "source": [
        "value_tuple=26,45,32\n",
        "print(value_tuple)"
      ],
      "metadata": {
        "colab": {
          "base_uri": "https://localhost:8080/"
        },
        "id": "rV0skCB92YjI",
        "outputId": "53666bae-617f-43a6-d5b2-02fee8d2cc5e"
      },
      "execution_count": null,
      "outputs": [
        {
          "output_type": "stream",
          "name": "stdout",
          "text": [
            "(26, 45, 32)\n"
          ]
        }
      ]
    },
    {
      "cell_type": "code",
      "source": [
        "value_tuple=\"Nanu\",26,45,32\n",
        "print(value_tuple)"
      ],
      "metadata": {
        "colab": {
          "base_uri": "https://localhost:8080/"
        },
        "id": "UNJKf2HM2f7P",
        "outputId": "a09e54c8-1ceb-40e0-c827-9cb5d574a2f0"
      },
      "execution_count": null,
      "outputs": [
        {
          "output_type": "stream",
          "name": "stdout",
          "text": [
            "('Nanu', 26, 45, 32)\n"
          ]
        }
      ]
    },
    {
      "cell_type": "code",
      "source": [
        "value_tuple=26,45,\"Hello\"\n",
        "print(value_tuple)"
      ],
      "metadata": {
        "colab": {
          "base_uri": "https://localhost:8080/"
        },
        "id": "zpKq4B5o2xU7",
        "outputId": "26b2fe22-0207-401b-d9dd-aec2d331cc27"
      },
      "execution_count": null,
      "outputs": [
        {
          "output_type": "stream",
          "name": "stdout",
          "text": [
            "(26, 45, 'Hello')\n"
          ]
        }
      ]
    },
    {
      "cell_type": "code",
      "source": [
        "Tuple=('Hello')\n",
        "print(Tuple)"
      ],
      "metadata": {
        "colab": {
          "base_uri": "https://localhost:8080/"
        },
        "id": "bP5o6dvk24Il",
        "outputId": "fc2dc2eb-31e8-476b-f27c-a261d97393f1"
      },
      "execution_count": null,
      "outputs": [
        {
          "output_type": "stream",
          "name": "stdout",
          "text": [
            "Hello\n"
          ]
        }
      ]
    },
    {
      "cell_type": "code",
      "source": [
        "Tuple=('Hello')\n",
        "print(type(Tuple))"
      ],
      "metadata": {
        "colab": {
          "base_uri": "https://localhost:8080/"
        },
        "id": "ofLZq4w_27l3",
        "outputId": "b6be5a6a-d66f-4de9-b8c4-ab8b7999cb2e"
      },
      "execution_count": null,
      "outputs": [
        {
          "output_type": "stream",
          "name": "stdout",
          "text": [
            "<class 'str'>\n"
          ]
        }
      ]
    },
    {
      "cell_type": "code",
      "source": [
        "Tuple=('Hello',)\n",
        "print(Tuple)"
      ],
      "metadata": {
        "colab": {
          "base_uri": "https://localhost:8080/"
        },
        "id": "kV0ZUxv03Gc2",
        "outputId": "29c0cf22-02a0-482e-c740-2088a8694c83"
      },
      "execution_count": null,
      "outputs": [
        {
          "output_type": "stream",
          "name": "stdout",
          "text": [
            "('Hello',)\n"
          ]
        }
      ]
    },
    {
      "cell_type": "code",
      "source": [
        "value_tuple=(26,45,\"Hello\")\n",
        "value_tuple[1]=7\n",
        "print(value_tuple)"
      ],
      "metadata": {
        "colab": {
          "base_uri": "https://localhost:8080/",
          "height": 173
        },
        "id": "IGE29Dmo3Yz4",
        "outputId": "c311c5bd-8f2f-4731-f8b0-063477b73dd7"
      },
      "execution_count": null,
      "outputs": [
        {
          "output_type": "error",
          "ename": "TypeError",
          "evalue": "'tuple' object does not support item assignment",
          "traceback": [
            "\u001b[0;31m---------------------------------------------------------------------------\u001b[0m",
            "\u001b[0;31mTypeError\u001b[0m                                 Traceback (most recent call last)",
            "\u001b[0;32m<ipython-input-8-8f53c44d96ba>\u001b[0m in \u001b[0;36m<cell line: 2>\u001b[0;34m()\u001b[0m\n\u001b[1;32m      1\u001b[0m \u001b[0mvalue_tuple\u001b[0m\u001b[0;34m=\u001b[0m\u001b[0;34m(\u001b[0m\u001b[0;36m26\u001b[0m\u001b[0;34m,\u001b[0m\u001b[0;36m45\u001b[0m\u001b[0;34m,\u001b[0m\u001b[0;34m\"Hello\"\u001b[0m\u001b[0;34m)\u001b[0m\u001b[0;34m\u001b[0m\u001b[0;34m\u001b[0m\u001b[0m\n\u001b[0;32m----> 2\u001b[0;31m \u001b[0mvalue_tuple\u001b[0m\u001b[0;34m[\u001b[0m\u001b[0;36m1\u001b[0m\u001b[0;34m]\u001b[0m\u001b[0;34m=\u001b[0m\u001b[0;36m7\u001b[0m\u001b[0;34m\u001b[0m\u001b[0;34m\u001b[0m\u001b[0m\n\u001b[0m\u001b[1;32m      3\u001b[0m \u001b[0mprint\u001b[0m\u001b[0;34m(\u001b[0m\u001b[0mvalue_tuple\u001b[0m\u001b[0;34m)\u001b[0m\u001b[0;34m\u001b[0m\u001b[0;34m\u001b[0m\u001b[0m\n",
            "\u001b[0;31mTypeError\u001b[0m: 'tuple' object does not support item assignment"
          ]
        }
      ]
    },
    {
      "cell_type": "code",
      "source": [
        "value1_tuple=(26,45,\"Hello\")\n",
        "value2_tuple=7,5.6,\"python\"\n",
        "print(value1_tuple+value2_tuple)"
      ],
      "metadata": {
        "colab": {
          "base_uri": "https://localhost:8080/"
        },
        "id": "cotXUUji3q1j",
        "outputId": "c5406efd-808d-43d5-d3f2-5eefe7692827"
      },
      "execution_count": null,
      "outputs": [
        {
          "output_type": "stream",
          "name": "stdout",
          "text": [
            "(26, 45, 'Hello', 7, 5.6, 'python')\n"
          ]
        }
      ]
    },
    {
      "cell_type": "code",
      "source": [
        "value1_tuple=(26,45,\"Hello\")\n",
        "value2_tuple=7,5.6,\"python\"\n",
        "value3_tuple=value1_tuple,value2_tuple\n",
        "print(value3_tuple)"
      ],
      "metadata": {
        "colab": {
          "base_uri": "https://localhost:8080/"
        },
        "id": "HJ1glSie4Bor",
        "outputId": "25161cad-19cd-41a8-f5df-14ee4bcea79b"
      },
      "execution_count": null,
      "outputs": [
        {
          "output_type": "stream",
          "name": "stdout",
          "text": [
            "((26, 45, 'Hello'), (7, 5.6, 'python'))\n"
          ]
        }
      ]
    },
    {
      "cell_type": "code",
      "source": [
        "value_tuple=(26,45,\"Hello\")*2\n",
        "print(value_tuple)"
      ],
      "metadata": {
        "colab": {
          "base_uri": "https://localhost:8080/"
        },
        "id": "fMzSl7B74RNV",
        "outputId": "2e8220c6-2470-42f5-f824-e7475b2b3bbe"
      },
      "execution_count": null,
      "outputs": [
        {
          "output_type": "stream",
          "name": "stdout",
          "text": [
            "(26, 45, 'Hello', 26, 45, 'Hello')\n"
          ]
        }
      ]
    },
    {
      "cell_type": "code",
      "source": [
        "value_tuple=(26,45,\"Hello\",7.5)\n",
        "print(value_tuple[3])"
      ],
      "metadata": {
        "colab": {
          "base_uri": "https://localhost:8080/"
        },
        "id": "q-0ruRTp4tOU",
        "outputId": "2cd9dddc-a643-4621-81f9-513b68f69dde"
      },
      "execution_count": null,
      "outputs": [
        {
          "output_type": "stream",
          "name": "stdout",
          "text": [
            "7.5\n"
          ]
        }
      ]
    },
    {
      "cell_type": "code",
      "source": [
        "value_tuple=(26,45,\"Hello\",7.5)\n",
        "print(value_tuple[0:])"
      ],
      "metadata": {
        "colab": {
          "base_uri": "https://localhost:8080/"
        },
        "id": "XqVW5yAs5A_b",
        "outputId": "deb21447-5ef7-4fd6-b986-26f83ef7cd6a"
      },
      "execution_count": null,
      "outputs": [
        {
          "output_type": "stream",
          "name": "stdout",
          "text": [
            "(26, 45, 'Hello', 7.5)\n"
          ]
        }
      ]
    },
    {
      "cell_type": "code",
      "source": [
        "value_tuple=(26,45,\"Hello\",7.5)\n",
        "print(value_tuple[:3])"
      ],
      "metadata": {
        "colab": {
          "base_uri": "https://localhost:8080/"
        },
        "id": "HB3X6OCZ5JTq",
        "outputId": "107d305e-636a-48d6-a59c-89a16f6c26d5"
      },
      "execution_count": null,
      "outputs": [
        {
          "output_type": "stream",
          "name": "stdout",
          "text": [
            "(26, 45, 'Hello')\n"
          ]
        }
      ]
    },
    {
      "cell_type": "code",
      "source": [
        "fxprint(value_tuple[:7])"
      ],
      "metadata": {
        "colab": {
          "base_uri": "https://localhost:8080/"
        },
        "id": "uYNZFKkY5R3x",
        "outputId": "b5476a32-4dd6-4a7f-9a9e-b9c97f69f577"
      },
      "execution_count": null,
      "outputs": [
        {
          "output_type": "stream",
          "name": "stdout",
          "text": [
            "(26, 45, 'Hello', 7.5, 'z', 5, 6.9)\n"
          ]
        }
      ]
    },
    {
      "cell_type": "code",
      "source": [
        "value_tuple=(26,45,\"Hello\",7.5)\n",
        "print(value_tuple[-1])"
      ],
      "metadata": {
        "colab": {
          "base_uri": "https://localhost:8080/"
        },
        "id": "kV6dgLNj5Uuu",
        "outputId": "b80c0f3a-0ee2-46d5-916d-9b036b0eb6d6"
      },
      "execution_count": null,
      "outputs": [
        {
          "output_type": "stream",
          "name": "stdout",
          "text": [
            "7.5\n"
          ]
        }
      ]
    },
    {
      "cell_type": "code",
      "source": [
        "value_tuple=(26,45,\"Hello\",7.5,'z',5,6.9)\n",
        "print(value_tuple[-4:])"
      ],
      "metadata": {
        "colab": {
          "base_uri": "https://localhost:8080/"
        },
        "id": "nAXnu0sP5mkQ",
        "outputId": "823e5317-05b8-4ca7-87fd-ba9191b2abca"
      },
      "execution_count": null,
      "outputs": [
        {
          "output_type": "stream",
          "name": "stdout",
          "text": [
            "(7.5, 'z', 5, 6.9)\n"
          ]
        }
      ]
    },
    {
      "cell_type": "code",
      "source": [
        "value_tuple=(26,45,\"Hello\",7.5,'z',5,6.9)\n",
        "print(value_tuple[:-4])"
      ],
      "metadata": {
        "colab": {
          "base_uri": "https://localhost:8080/"
        },
        "id": "no8sJkEU5pCo",
        "outputId": "3480e863-04c3-4b91-ae89-a3353bca1250"
      },
      "execution_count": null,
      "outputs": [
        {
          "output_type": "stream",
          "name": "stdout",
          "text": [
            "(26, 45, 'Hello')\n"
          ]
        }
      ]
    },
    {
      "cell_type": "code",
      "source": [
        "value_tuple=(26,45,\"Hello\",7.5,'z',5,6.9)\n",
        "print(value_tuple[::-1])"
      ],
      "metadata": {
        "colab": {
          "base_uri": "https://localhost:8080/"
        },
        "id": "EkgDPmTv56FF",
        "outputId": "2b4eac98-417d-4eb0-b3ad-6826624ba1f5"
      },
      "execution_count": null,
      "outputs": [
        {
          "output_type": "stream",
          "name": "stdout",
          "text": [
            "(6.9, 5, 'z', 7.5, 'Hello', 45, 26)\n"
          ]
        }
      ]
    },
    {
      "cell_type": "code",
      "source": [
        "value_tuple=(26,45,\"Hello\",7.5,'z',5,6.9)\n",
        "print(value_tuple[::-2])"
      ],
      "metadata": {
        "colab": {
          "base_uri": "https://localhost:8080/"
        },
        "id": "SjYUEp3_58yp",
        "outputId": "de513c02-52d8-44e0-ca8b-4afff1085873"
      },
      "execution_count": null,
      "outputs": [
        {
          "output_type": "stream",
          "name": "stdout",
          "text": [
            "(6.9, 'z', 'Hello', 26)\n"
          ]
        }
      ]
    },
    {
      "cell_type": "code",
      "source": [
        "value_tuple=(26,45,\"Hello\",7.5,'z',5,6.9)\n",
        "print(value_tuple[-3::])"
      ],
      "metadata": {
        "colab": {
          "base_uri": "https://localhost:8080/"
        },
        "id": "zQRKRFKA6AJY",
        "outputId": "0c442260-92b3-45a9-9ff3-7b1ceead4a42"
      },
      "execution_count": null,
      "outputs": [
        {
          "output_type": "stream",
          "name": "stdout",
          "text": [
            "('z', 5, 6.9)\n"
          ]
        }
      ]
    },
    {
      "cell_type": "code",
      "source": [
        "value_tuple=(26,45,\"Hello\",7.5,'z',5,6.9)\n",
        "print(value_tuple[1:4])"
      ],
      "metadata": {
        "colab": {
          "base_uri": "https://localhost:8080/"
        },
        "id": "z5WovCob6Sz1",
        "outputId": "670b73b0-5c7b-43d0-d59b-fd15c546dc1e"
      },
      "execution_count": null,
      "outputs": [
        {
          "output_type": "stream",
          "name": "stdout",
          "text": [
            "(45, 'Hello', 7.5)\n"
          ]
        }
      ]
    },
    {
      "cell_type": "code",
      "source": [
        "value_tuple=(26,45,\"Hello\",7.5,'z',5,6.9)\n",
        "print(value_tuple[::-2])"
      ],
      "metadata": {
        "colab": {
          "base_uri": "https://localhost:8080/"
        },
        "id": "BUkBwgZM6cpT",
        "outputId": "e72f3eaa-2050-4132-8220-dbf154d44a4a"
      },
      "execution_count": null,
      "outputs": [
        {
          "output_type": "stream",
          "name": "stdout",
          "text": [
            "(6.9, 'z', 'Hello', 26)\n"
          ]
        }
      ]
    },
    {
      "cell_type": "code",
      "source": [
        "value_tuple=(26,45,\"Hello\",7.5,'z',5,6.9)\n",
        "print(value_tuple[1::1])"
      ],
      "metadata": {
        "colab": {
          "base_uri": "https://localhost:8080/"
        },
        "id": "Pv9UbL7r6gQi",
        "outputId": "be906cdb-66cf-4c6a-8412-f75e7307f35c"
      },
      "execution_count": null,
      "outputs": [
        {
          "output_type": "stream",
          "name": "stdout",
          "text": [
            "(45, 'Hello', 7.5, 'z', 5, 6.9)\n"
          ]
        }
      ]
    },
    {
      "cell_type": "code",
      "source": [
        "value_tuple=(26,45,\"Hello\",7.5,'z',5,6.9)\n",
        "print(value_tuple[1::3])"
      ],
      "metadata": {
        "colab": {
          "base_uri": "https://localhost:8080/"
        },
        "id": "vS-khiga6i7n",
        "outputId": "364785f6-2a58-428b-d36b-fe1b03e55370"
      },
      "execution_count": null,
      "outputs": [
        {
          "output_type": "stream",
          "name": "stdout",
          "text": [
            "(45, 'z')\n"
          ]
        }
      ]
    },
    {
      "cell_type": "code",
      "source": [
        "value_tuple=(26,45,\"Hello\",7.5,'z',5,6.9)\n",
        "print(value_tuple[-1::-2])"
      ],
      "metadata": {
        "colab": {
          "base_uri": "https://localhost:8080/"
        },
        "id": "9VQV0CWk6lwA",
        "outputId": "f4f596e8-2bd3-4ff7-c5ab-a659e8dfa117"
      },
      "execution_count": null,
      "outputs": [
        {
          "output_type": "stream",
          "name": "stdout",
          "text": [
            "(6.9, 'z', 'Hello', 26)\n"
          ]
        }
      ]
    },
    {
      "cell_type": "code",
      "source": [
        "value_tuple=(26,45,\"Hello\",7.5,'z',5,6.9)\n",
        "print(value_tuple[1:6:2])"
      ],
      "metadata": {
        "colab": {
          "base_uri": "https://localhost:8080/"
        },
        "id": "vkdOJMXr6s7J",
        "outputId": "cc2f5edb-227e-48f1-ba12-21270d31115c"
      },
      "execution_count": null,
      "outputs": [
        {
          "output_type": "stream",
          "name": "stdout",
          "text": [
            "(45, 7.5, 5)\n"
          ]
        }
      ]
    },
    {
      "cell_type": "code",
      "source": [
        "value_tuple=(26,45,\"Hello\",7.5,'z',5,6.9)\n",
        "del(value_tuple[1])\n",
        "print(value_tuple)"
      ],
      "metadata": {
        "colab": {
          "base_uri": "https://localhost:8080/",
          "height": 173
        },
        "id": "c_kjtg9O6xg7",
        "outputId": "9be58bff-14f1-4660-b76c-c6e1d8653bca"
      },
      "execution_count": null,
      "outputs": [
        {
          "output_type": "error",
          "ename": "TypeError",
          "evalue": "'tuple' object doesn't support item deletion",
          "traceback": [
            "\u001b[0;31m---------------------------------------------------------------------------\u001b[0m",
            "\u001b[0;31mTypeError\u001b[0m                                 Traceback (most recent call last)",
            "\u001b[0;32m<ipython-input-33-6192e75b9b65>\u001b[0m in \u001b[0;36m<cell line: 2>\u001b[0;34m()\u001b[0m\n\u001b[1;32m      1\u001b[0m \u001b[0mvalue_tuple\u001b[0m\u001b[0;34m=\u001b[0m\u001b[0;34m(\u001b[0m\u001b[0;36m26\u001b[0m\u001b[0;34m,\u001b[0m\u001b[0;36m45\u001b[0m\u001b[0;34m,\u001b[0m\u001b[0;34m\"Hello\"\u001b[0m\u001b[0;34m,\u001b[0m\u001b[0;36m7.5\u001b[0m\u001b[0;34m,\u001b[0m\u001b[0;34m'z'\u001b[0m\u001b[0;34m,\u001b[0m\u001b[0;36m5\u001b[0m\u001b[0;34m,\u001b[0m\u001b[0;36m6.9\u001b[0m\u001b[0;34m)\u001b[0m\u001b[0;34m\u001b[0m\u001b[0;34m\u001b[0m\u001b[0m\n\u001b[0;32m----> 2\u001b[0;31m \u001b[0;32mdel\u001b[0m\u001b[0;34m(\u001b[0m\u001b[0mvalue_tuple\u001b[0m\u001b[0;34m[\u001b[0m\u001b[0;36m1\u001b[0m\u001b[0;34m]\u001b[0m\u001b[0;34m)\u001b[0m\u001b[0;34m\u001b[0m\u001b[0;34m\u001b[0m\u001b[0m\n\u001b[0m\u001b[1;32m      3\u001b[0m \u001b[0mprint\u001b[0m\u001b[0;34m(\u001b[0m\u001b[0mvalue_tuple\u001b[0m\u001b[0;34m)\u001b[0m\u001b[0;34m\u001b[0m\u001b[0;34m\u001b[0m\u001b[0m\n",
            "\u001b[0;31mTypeError\u001b[0m: 'tuple' object doesn't support item deletion"
          ]
        }
      ]
    },
    {
      "cell_type": "markdown",
      "source": [
        "Write a Python Program to get the input from the user for creating two lists and add the elements of one list into the other."
      ],
      "metadata": {
        "id": "B5JbxXre287R"
      }
    },
    {
      "cell_type": "code",
      "source": [
        "size_of_list_1=int(input())\n",
        "list_1=[]\n",
        "for i in range(size_of_list_1):\n",
        "  list_1.append(int(input()))\n",
        "print(list_1)"
      ],
      "metadata": {
        "id": "H7kgl0u-685G",
        "colab": {
          "base_uri": "https://localhost:8080/"
        },
        "outputId": "831e02b7-62f8-45a7-b417-68f75b9e1782"
      },
      "execution_count": null,
      "outputs": [
        {
          "output_type": "stream",
          "name": "stdout",
          "text": [
            "3\n",
            "56\n",
            "43\n",
            "31\n",
            "[56, 43, 31]\n"
          ]
        }
      ]
    },
    {
      "cell_type": "code",
      "source": [
        "size_of_list_2=int(input())\n",
        "list_2=[]\n",
        "for i in range(size_of_list_2):\n",
        "  list_2.append(int(input()))\n",
        "print(list_2)"
      ],
      "metadata": {
        "colab": {
          "base_uri": "https://localhost:8080/"
        },
        "id": "cqXckqk13gXz",
        "outputId": "2f06806f-a162-4003-bcef-910bb3969aa2"
      },
      "execution_count": null,
      "outputs": [
        {
          "output_type": "stream",
          "name": "stdout",
          "text": [
            "4\n",
            "12\n",
            "26\n",
            "10\n",
            "6\n",
            "[12, 26, 10, 6]\n"
          ]
        }
      ]
    },
    {
      "cell_type": "code",
      "source": [
        "x=\"Hi How are you\"\n",
        "print(x.split())"
      ],
      "metadata": {
        "colab": {
          "base_uri": "https://localhost:8080/"
        },
        "id": "tdQIwJq347rl",
        "outputId": "54a7dd21-c409-400b-86a5-44ee2b09a529"
      },
      "execution_count": null,
      "outputs": [
        {
          "output_type": "stream",
          "name": "stdout",
          "text": [
            "['Hi', 'How', 'are', 'you']\n"
          ]
        }
      ]
    },
    {
      "cell_type": "code",
      "source": [
        "a=int(input())\n",
        "b=list(map(int,input().split()))\n",
        "print(max(b))"
      ],
      "metadata": {
        "colab": {
          "base_uri": "https://localhost:8080/"
        },
        "id": "kAEgwERj5E0U",
        "outputId": "fa165019-992d-4199-fcd6-4120fb32497c"
      },
      "execution_count": null,
      "outputs": [
        {
          "output_type": "stream",
          "name": "stdout",
          "text": [
            "5\n",
            "12 26 10 67 99\n",
            "99\n"
          ]
        }
      ]
    },
    {
      "cell_type": "code",
      "source": [
        "a=int(input())\n",
        "b=list(map(int,input().split()))\n",
        "b.sort()\n",
        "print(b[-2])"
      ],
      "metadata": {
        "colab": {
          "base_uri": "https://localhost:8080/"
        },
        "id": "PhhsuoiE5SSq",
        "outputId": "696bde78-dda4-4a15-98ec-4b0833cdcd35"
      },
      "execution_count": null,
      "outputs": [
        {
          "output_type": "stream",
          "name": "stdout",
          "text": [
            "5\n",
            "55 77 33 99 58\n",
            "77\n"
          ]
        }
      ]
    },
    {
      "cell_type": "markdown",
      "source": [
        "Write a Python Code to create a list of 1 to 10 elements and the list is created, create another list with only odd values."
      ],
      "metadata": {
        "id": "ZJisvLBY7Doc"
      }
    },
    {
      "cell_type": "code",
      "source": [
        "list1=list(range(1,11))\n",
        "odd=list1[::2]\n",
        "print(list1)\n",
        "print(odd)"
      ],
      "metadata": {
        "colab": {
          "base_uri": "https://localhost:8080/"
        },
        "id": "1NmNLHS86eMa",
        "outputId": "1b292d6d-e072-4998-e808-03bd9ae96ca8"
      },
      "execution_count": null,
      "outputs": [
        {
          "output_type": "stream",
          "name": "stdout",
          "text": [
            "[1, 2, 3, 4, 5, 6, 7, 8, 9, 10]\n",
            "[1, 3, 5, 7, 9]\n"
          ]
        }
      ]
    },
    {
      "cell_type": "markdown",
      "source": [
        "Write a Python program to find the largest even and largest odd number in the list."
      ],
      "metadata": {
        "id": "uEimZSif8JFw"
      }
    },
    {
      "cell_type": "code",
      "source": [
        "n=int(input())\n",
        "b=[]\n",
        "for i in range (n):\n",
        "    a=int(input())\n",
        "    b.append(a)\n",
        "c=[]\n",
        "d=[]\n",
        "for i in b:\n",
        "    if(i%2==0):\n",
        "        c.append(i)\n",
        "    else:\n",
        "        d.append(i)\n",
        "c.sort()\n",
        "d.sort()\n",
        "print(\"Largest Even Number:\",c[-1])\n",
        "print(\"Largest Odd Number:\",d[-1])"
      ],
      "metadata": {
        "colab": {
          "base_uri": "https://localhost:8080/"
        },
        "id": "TGpObD1-7UoP",
        "outputId": "461fd0ec-4281-4cfd-98c9-0f1bd0c75f2b"
      },
      "execution_count": null,
      "outputs": [
        {
          "output_type": "stream",
          "name": "stdout",
          "text": [
            "5\n",
            "12\n",
            "99\n",
            "6\n",
            "6\n",
            "67\n",
            "Largest Even Number: 12\n",
            "Largest Odd Number: 99\n"
          ]
        }
      ]
    },
    {
      "cell_type": "markdown",
      "source": [
        "Write a Python program to find the union of two list."
      ],
      "metadata": {
        "id": "WLS5HK8l-KTm"
      }
    },
    {
      "cell_type": "code",
      "source": [
        "a=list(map(int,input().split()))\n",
        "b=list(map(int,input().split()))\n",
        "union=list(set().union(a,b))\n",
        "print('The Union of two lists is:',union)"
      ],
      "metadata": {
        "colab": {
          "base_uri": "https://localhost:8080/"
        },
        "id": "eUhBP00i847d",
        "outputId": "d8deeaaa-b14f-4ee9-8b55-feabc8b983d5"
      },
      "execution_count": null,
      "outputs": [
        {
          "output_type": "stream",
          "name": "stdout",
          "text": [
            "5\n",
            "12\n",
            "The Union of two lists is: [12, 5]\n"
          ]
        }
      ]
    },
    {
      "cell_type": "code",
      "source": [
        "x=[1,2,3]\n",
        "x.append([4,5])\n",
        "print(len(x))"
      ],
      "metadata": {
        "id": "LC76gIpL_VG9",
        "colab": {
          "base_uri": "https://localhost:8080/"
        },
        "outputId": "29564970-ad7f-404b-a64d-ca4cbf01eac2"
      },
      "execution_count": null,
      "outputs": [
        {
          "output_type": "stream",
          "name": "stdout",
          "text": [
            "4\n"
          ]
        }
      ]
    },
    {
      "cell_type": "code",
      "source": [
        "a={1,2,3,4}\n",
        "a.pop()\n",
        "print(a)"
      ],
      "metadata": {
        "colab": {
          "base_uri": "https://localhost:8080/"
        },
        "id": "f3htqXvwHQC-",
        "outputId": "65fa5d4f-1253-4757-cdeb-22ae9ddf724d"
      },
      "execution_count": null,
      "outputs": [
        {
          "output_type": "stream",
          "name": "stdout",
          "text": [
            "{2, 3, 4}\n"
          ]
        }
      ]
    },
    {
      "cell_type": "markdown",
      "source": [
        "Write a program to print the number of repeated elements in a list?"
      ],
      "metadata": {
        "id": "ONrZjz02ICPo"
      }
    },
    {
      "cell_type": "code",
      "source": [
        "numbers = [5,3,3,3,78,90]\n",
        "from collections import Counter\n",
        "element_counts = Counter(numbers)\n",
        "repeated_elements = {key: value for key, value in element_counts.items() if value > 1}\n",
        "print(f\"Number of repeated elements: {len(repeated_elements)}\")\n",
        "print(\"Repeated elements and their counts:\", repeated_elements)"
      ],
      "metadata": {
        "colab": {
          "base_uri": "https://localhost:8080/"
        },
        "id": "O3uNC7j1HmG8",
        "outputId": "a8e3747b-2936-4e85-f771-4660c04318ff"
      },
      "execution_count": null,
      "outputs": [
        {
          "output_type": "stream",
          "name": "stdout",
          "text": [
            "Number of repeated elements: 1\n",
            "Repeated elements and their counts: {3: 3}\n"
          ]
        }
      ]
    },
    {
      "cell_type": "code",
      "source": [
        "numbers = [3,1,2,3]\n",
        "from collections import Counter\n",
        "element_counts = Counter(numbers)\n",
        "repeated_elements = {key: value for key, value in element_counts.items() if value > 1}\n",
        "print(f\"Number of repeated elements: {len(repeated_elements)}\")\n",
        "print(\"Repeated elements and their counts:\", repeated_elements)"
      ],
      "metadata": {
        "colab": {
          "base_uri": "https://localhost:8080/"
        },
        "id": "2rF569HPJVkY",
        "outputId": "dc86fa9c-ce67-4caf-8602-b1668cf27350"
      },
      "execution_count": null,
      "outputs": [
        {
          "output_type": "stream",
          "name": "stdout",
          "text": [
            "Number of repeated elements: 1\n",
            "Repeated elements and their counts: {3: 2}\n"
          ]
        }
      ]
    },
    {
      "cell_type": "code",
      "source": [
        "numbers = [5, 3, 3, 3, 78, 90]\n",
        "repeated_elements = {}\n",
        "\n",
        "for num in numbers:\n",
        "    if num in repeated_elements:\n",
        "        repeated_elements[num] += 1\n",
        "    else:\n",
        "        repeated_elements[num] = 1\n",
        "\n",
        "# Keep only elements that appear more than once\n",
        "repeated_elements = {num: count for num, count in repeated_elements.items() if count > 1}\n",
        "\n",
        "print(\"Number of repeated elements:\", len(repeated_elements))\n",
        "print(\"Repeated elements and their counts:\", repeated_elements)"
      ],
      "metadata": {
        "colab": {
          "base_uri": "https://localhost:8080/"
        },
        "id": "81C3K7nLJi5y",
        "outputId": "220024c0-0459-433c-a11a-2fc03d210549"
      },
      "execution_count": null,
      "outputs": [
        {
          "output_type": "stream",
          "name": "stdout",
          "text": [
            "Number of repeated elements: 1\n",
            "Repeated elements and their counts: {3: 3}\n"
          ]
        }
      ]
    },
    {
      "cell_type": "code",
      "source": [],
      "metadata": {
        "id": "O1MbGZzVKaNn"
      },
      "execution_count": null,
      "outputs": []
    }
  ]
}